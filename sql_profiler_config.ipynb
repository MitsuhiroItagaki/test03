# 📁 SQL Profiler JSON File Path Configuration
# 
# Please change the JSON_FILE_PATH below to your actual file path:

# Notebook environment file path configuration (please select from the following options)

# Option 1: Pre-tuning plan file (recommended)
JSON_FILE_PATH = '/workspace/query-profile_01f0703c-c975-1f48-ad71-ba572cc57272.json'

# Option 2: To use other JSON files, uncomment and edit the following
# JSON_FILE_PATH = '/Volumes/main/base/mitsuhiro_vol/nophoton.json'
# JSON_FILE_PATH = '/Volumes/main/base/mitsuhiro_vol/POC1.json'
# JSON_FILE_PATH = '/Volumes/main/base/mitsuhiro_vol/your_file.json'

# Command line environment (optional)
import sys
if len(sys.argv) > 1 and not sys.argv[1].startswith('-'):
    # Use only when command line argument is not a flag (doesn't start with -)
    JSON_FILE_PATH = sys.argv[1]

# 🌐 Output language setting (OUTPUT_LANGUAGE: 'ja' = Japanese, 'en' = English)
OUTPUT_LANGUAGE = 'en'

# 🔍 EXPLAIN statement execution setting (EXPLAIN_ENABLED: 'Y' = execute, 'N' = do not execute)
EXPLAIN_ENABLED = 'Y'

# 🐛 Debug mode setting (DEBUG_ENABLED: 'Y' = keep intermediate files, 'N' = keep final files only)
DEBUG_ENABLED = 'N'

# 🔍 JSON Debug output setting (DEBUG_JSON_ENABLED: 'Y' = show JSON debug info, 'N' = hide JSON debug info)
DEBUG_JSON_ENABLED = 'N'

# 🔧 Enhanced error handling settings
# Controls detailed error analysis and intermediate result saving

# 📊 ENHANCED_ERROR_HANDLING: Enable detailed error reporting with stack traces
# - 'Y': Save detailed error logs with stack traces and intermediate results
# - 'N': Use standard error handling (backward compatibility)
ENHANCED_ERROR_HANDLING = 'Y'

# 🔍 SAVE_INTERMEDIATE_RESULTS: Save intermediate analysis results for debugging
# - 'Y': Save JSON files with intermediate analysis data at each stage
# - 'N': No intermediate result saving (reduces file output)
SAVE_INTERMEDIATE_RESULTS = 'Y'

# 🎯 STAGED_JUDGMENT_MODE: Use staged performance judgment with fallback strategies
# - 'Y': Use 3-stage progressive analysis with partial result utilization
# - 'N': Use traditional single-stage comprehensive judgment
STAGED_JUDGMENT_MODE = 'Y'

# ⚠️ STRICT_VALIDATION_MODE: Enable strict input validation for metrics
# - 'Y': Perform strict validation of all input metrics with detailed error messages
# - 'N': Use basic validation (faster but less detailed error reporting)
STRICT_VALIDATION_MODE = 'N'

# 🗂️ Catalog and database configuration (used when executing EXPLAIN statements)
CATALOG = 'tpcds'
DATABASE = 'tpcds_sf1000_delta_lc'